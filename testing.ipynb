{
 "cells": [
  {
   "cell_type": "code",
   "execution_count": 5,
   "id": "15b0a5ef",
   "metadata": {},
   "outputs": [],
   "source": [
    "from src.helpers import pickle_load"
   ]
  },
  {
   "cell_type": "code",
   "execution_count": 8,
   "id": "0c28df89",
   "metadata": {},
   "outputs": [
    {
     "data": {
      "text/plain": [
       "array([-1.09461757e-04, -2.84984216e-05, -1.29522930e-04, -4.65072491e-04,\n",
       "       -1.81792263e-04, -4.24468772e-05,  4.71619729e-04, -2.52630570e-05,\n",
       "        2.04251217e-04,  1.68532001e-04])"
      ]
     },
     "execution_count": 8,
     "metadata": {},
     "output_type": "execute_result"
    }
   ],
   "source": [
    "pickle_load('accuracies', 'acc_2000')"
   ]
  }
 ],
 "metadata": {
  "kernelspec": {
   "display_name": "Python 3",
   "language": "python",
   "name": "python3"
  },
  "language_info": {
   "codemirror_mode": {
    "name": "ipython",
    "version": 3
   },
   "file_extension": ".py",
   "mimetype": "text/x-python",
   "name": "python",
   "nbconvert_exporter": "python",
   "pygments_lexer": "ipython3",
   "version": "3.7.6"
  }
 },
 "nbformat": 4,
 "nbformat_minor": 5
}
