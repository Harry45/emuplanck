{
 "cells": [
  {
   "cell_type": "code",
   "execution_count": 9,
   "id": "3c3eef88",
   "metadata": {},
   "outputs": [],
   "source": [
    "from src.helpers import pickle_load"
   ]
  },
  {
   "cell_type": "code",
   "execution_count": 12,
   "id": "98582d72",
   "metadata": {},
   "outputs": [],
   "source": [
    "import numpy as np"
   ]
  },
  {
   "cell_type": "code",
   "execution_count": 14,
   "id": "55f70544",
   "metadata": {},
   "outputs": [
    {
     "data": {
      "text/plain": [
       "-3.252301100012668e-05"
      ]
     },
     "execution_count": 14,
     "metadata": {},
     "output_type": "execute_result"
    }
   ],
   "source": [
    "np.mean(pickle_load('accuracies', 'acc_2000'))"
   ]
  },
  {
   "cell_type": "code",
   "execution_count": 13,
   "id": "a37343a1",
   "metadata": {},
   "outputs": [
    {
     "data": {
      "text/plain": [
       "0.00047146580830432203"
      ]
     },
     "execution_count": 13,
     "metadata": {},
     "output_type": "execute_result"
    }
   ],
   "source": [
    "np.std(pickle_load('accuracies', 'acc_2000'))"
   ]
  },
  {
   "cell_type": "code",
   "execution_count": null,
   "id": "7c849c03",
   "metadata": {},
   "outputs": [],
   "source": []
  }
 ],
 "metadata": {
  "kernelspec": {
   "display_name": "Python 3",
   "language": "python",
   "name": "python3"
  },
  "language_info": {
   "codemirror_mode": {
    "name": "ipython",
    "version": 3
   },
   "file_extension": ".py",
   "mimetype": "text/x-python",
   "name": "python",
   "nbconvert_exporter": "python",
   "pygments_lexer": "ipython3",
   "version": "3.7.6"
  }
 },
 "nbformat": 4,
 "nbformat_minor": 5
}
