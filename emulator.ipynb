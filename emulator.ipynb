{
 "cells": [
  {
   "cell_type": "code",
   "execution_count": 297,
   "id": "ff7a37a0-ca4c-4b73-99ed-170261a260ca",
   "metadata": {},
   "outputs": [],
   "source": [
    "import numpy as np\n",
    "import matplotlib.pylab as plt \n",
    "from src.helpers import pickle_load\n",
    "import pandas as pd "
   ]
  },
  {
   "cell_type": "markdown",
   "id": "3dbe5de9-a639-40cf-a062-c8a590d25871",
   "metadata": {},
   "source": [
    "## Numbers"
   ]
  },
  {
   "cell_type": "code",
   "execution_count": 513,
   "id": "ab97a579-4cf5-4608-9749-f58703f78492",
   "metadata": {},
   "outputs": [],
   "source": [
    "thin_factor = 5 \n",
    "discard_factor = 200\n",
    "nsigma = 10"
   ]
  },
  {
   "cell_type": "markdown",
   "id": "7ab37176-6c55-40d1-a83c-c5414ee36221",
   "metadata": {},
   "source": [
    "## Load Samples"
   ]
  },
  {
   "cell_type": "code",
   "execution_count": 514,
   "id": "4110933a-45e1-44c8-a2bf-333a24120e92",
   "metadata": {},
   "outputs": [],
   "source": [
    "camb_samples = pickle_load('samples', 'samples_CAMB_uniform_planck_priors_accurate_1') \n",
    "camb_samples_thinned = camb_samples.get_chain(flat=True, thin = thin_factor, discard = discard_factor)\n",
    "camb_logpost = camb_samples.get_log_prob(flat=True, thin = thin_factor, discard = discard_factor)"
   ]
  },
  {
   "cell_type": "markdown",
   "id": "a440b308-57af-4d8f-a921-b4484785dff4",
   "metadata": {},
   "source": [
    "## LHS"
   ]
  },
  {
   "cell_type": "code",
   "execution_count": 515,
   "id": "7e3f51df-f8c5-4f4d-a76e-b9d2ca9def94",
   "metadata": {},
   "outputs": [],
   "source": [
    "lhs_points = pd.read_csv('lhs/samples_6_2000.csv', index_col=0)\n",
    "ntrain = lhs_points.shape[0]"
   ]
  },
  {
   "cell_type": "code",
   "execution_count": 516,
   "id": "c7a13ac5-f7ae-4a0c-b586-54172cc03543",
   "metadata": {},
   "outputs": [],
   "source": [
    "median = np.median(camb_samples.flatchain, axis = 0)\n",
    "mean = np.mean(camb_samples.flatchain, axis = 0)\n",
    "std = np.std(camb_samples.flatchain, axis = 0)\n",
    "\n",
    "delta = nsigma * std \n",
    "cosmologies = lhs_points * delta + (mean - 0.5 * nsigma * std)"
   ]
  },
  {
   "cell_type": "code",
   "execution_count": 518,
   "id": "149763e8-7235-42f6-879a-4a2f4a8ba4fb",
   "metadata": {},
   "outputs": [
    {
     "data": {
      "image/png": "[encoded data removed]",
      "text/plain": [
       "<Figure size 640x480 with 1 Axes>"
      ]
     },
     "metadata": {},
     "output_type": "display_data"
    }
   ],
   "source": [
    "index = 0\n",
    "plt.hist(camb_samples.flatchain[:,index], density = True, bins = 20)\n",
    "plt.hist(cosmologies.values[:,index], density = True, histtype='step')\n",
    "plt.show()"
   ]
  },
  {
   "cell_type": "code",
   "execution_count": 490,
   "id": "0d35dc58-8c00-446f-9fd4-966bff8e48cd",
   "metadata": {},
   "outputs": [
    {
     "data": {
      "text/plain": [
       "0.00013037019873161083"
      ]
     },
     "execution_count": 490,
     "metadata": {},
     "output_type": "execute_result"
    }
   ],
   "source": [
    "shifts[index]"
   ]
  },
  {
   "cell_type": "code",
   "execution_count": 491,
   "id": "158d1e96-e805-441a-ae17-6e55f50cde5e",
   "metadata": {},
   "outputs": [
    {
     "data": {
      "text/plain": [
       "1.039806520226741"
      ]
     },
     "execution_count": 491,
     "metadata": {},
     "output_type": "execute_result"
    }
   ],
   "source": [
    "min(cosmo.values[:,index])"
   ]
  },
  {
   "cell_type": "code",
   "execution_count": 487,
   "id": "d1649cbb-64f0-4d63-9132-b053f5e01d56",
   "metadata": {},
   "outputs": [
    {
     "data": {
      "text/plain": [
       "1.0396761500280094"
      ]
     },
     "execution_count": 487,
     "metadata": {},
     "output_type": "execute_result"
    }
   ],
   "source": [
    "min(cosmo.values[:,index]) - shifts[index]"
   ]
  },
  {
   "cell_type": "code",
   "execution_count": 492,
   "id": "9acac642-a27a-4903-9b49-bf4b40f871a3",
   "metadata": {},
   "outputs": [
    {
     "data": {
      "text/plain": [
       "1.0426733180000636"
      ]
     },
     "execution_count": 492,
     "metadata": {},
     "output_type": "execute_result"
    }
   ],
   "source": [
    "max(cosmo.values[:,index])"
   ]
  },
  {
   "cell_type": "code",
   "execution_count": 489,
   "id": "5f383768-ac4d-4fcc-9da8-a136853b5040",
   "metadata": {},
   "outputs": [
    {
     "data": {
      "text/plain": [
       "1.0428036881987952"
      ]
     },
     "execution_count": 489,
     "metadata": {},
     "output_type": "execute_result"
    }
   ],
   "source": [
    "max(cosmo.values[:,index]) + shifts[index]"
   ]
  },
  {
   "cell_type": "markdown",
   "id": "95725ade-c9fe-4757-be73-a2f1ce5dddfb",
   "metadata": {},
   "source": [
    "## Likelihood Calculations"
   ]
  },
  {
   "cell_type": "code",
   "execution_count": 431,
   "id": "e4a19b46-0393-4349-ac2c-8bf814a7137d",
   "metadata": {},
   "outputs": [],
   "source": [
    "from config import get_config\n",
    "from src.sampling import generate_priors_uniform, emcee_loglike, emcee_logpost, emcee_logprior_uniform"
   ]
  },
  {
   "cell_type": "code",
   "execution_count": 432,
   "id": "71e263af-6e3d-44a1-9eee-c3dfb3146cb8",
   "metadata": {},
   "outputs": [],
   "source": [
    "cfg = get_config('Planck-2018')"
   ]
  },
  {
   "cell_type": "code",
   "execution_count": 21,
   "id": "7f7d8286-d039-4390-a536-279f45221621",
   "metadata": {},
   "outputs": [],
   "source": [
    "uniform_priors = generate_priors_uniform(cfg)"
   ]
  },
  {
   "cell_type": "code",
   "execution_count": 434,
   "id": "d0e2e6fa-487d-4f40-b7c0-6c0474177df9",
   "metadata": {},
   "outputs": [
    {
     "name": "stdout",
     "output_type": "stream",
     "text": [
      "Percentage completed is 10.00\n",
      "Percentage completed is 20.00\n",
      "Percentage completed is 30.00\n",
      "Percentage completed is 40.00\n",
      "Percentage completed is 50.00\n",
      "Percentage completed is 60.00\n",
      "Percentage completed is 70.00\n",
      "Percentage completed is 80.00\n",
      "Percentage completed is 90.00\n",
      "Percentage completed is 100.00\n",
      "Percentage completed is 110.00\n",
      "Percentage completed is 120.00\n",
      "Percentage completed is 130.00\n",
      "Percentage completed is 140.00\n",
      "Percentage completed is 150.00\n",
      "Percentage completed is 160.00\n",
      "Percentage completed is 170.00\n",
      "Percentage completed is 180.00\n",
      "Percentage completed is 190.00\n",
      "Percentage completed is 200.00\n"
     ]
    }
   ],
   "source": [
    "record_logl = np.zeros(ntrain)\n",
    "for i in range(ntrain):\n",
    "    record_logl[i] = emcee_loglike(cosmologies.values[i], cfg, uniform_priors).item()\n",
    "    if (i+1) % (ntrain // 10) == 0:\n",
    "        print(f'Percentage completed is {(i+1)/ntrain * 100:.2f}')"
   ]
  },
  {
   "cell_type": "markdown",
   "id": "74922932-a1d5-4605-8183-3384919b778b",
   "metadata": {},
   "source": [
    "## Emulator"
   ]
  },
  {
   "cell_type": "code",
   "execution_count": 52,
   "id": "b35e5ab6-ac82-44de-9e84-dfdfaa86e00d",
   "metadata": {},
   "outputs": [],
   "source": [
    "from src.torchemu.gaussianprocess import GaussianProcess"
   ]
  },
  {
   "cell_type": "code",
   "execution_count": 445,
   "id": "5d185ab4-5079-474e-81cf-7cab989c5ec4",
   "metadata": {},
   "outputs": [],
   "source": [
    "from sklearn.preprocessing import PowerTransformer\n",
    "pt = PowerTransformer(method = 'box-cox')"
   ]
  },
  {
   "cell_type": "code",
   "execution_count": 521,
   "id": "8ebb1d98-744a-4af6-aff8-1bb44e27c536",
   "metadata": {},
   "outputs": [],
   "source": [
    "points = np.log(-record_logl)"
   ]
  },
  {
   "cell_type": "code",
   "execution_count": 522,
   "id": "0a056d98-b427-4d17-aa21-80bc1bb82004",
   "metadata": {},
   "outputs": [
    {
     "data": {
      "image/png": "[encoded data removed]",
      "text/plain": [
       "<Figure size 640x480 with 1 Axes>"
      ]
     },
     "metadata": {},
     "output_type": "display_data"
    }
   ],
   "source": [
    "plt.hist(points, bins = 20, density = True)\n",
    "plt.show()"
   ]
  },
  {
   "cell_type": "code",
   "execution_count": 523,
   "id": "0e09d6d9-a5be-4942-9f8e-d61a4575a127",
   "metadata": {},
   "outputs": [],
   "source": [
    "pt.fit(points.reshape(-1,1))\n",
    "trans = pt.transform(points.reshape(-1,1))"
   ]
  },
  {
   "cell_type": "code",
   "execution_count": 524,
   "id": "f45d5213-d842-42a7-be73-dcffb9ae2768",
   "metadata": {},
   "outputs": [
    {
     "data": {
      "image/png": "[encoded data removed]",
      "text/plain": [
       "<Figure size 640x480 with 1 Axes>"
      ]
     },
     "metadata": {},
     "output_type": "display_data"
    }
   ],
   "source": [
    "plt.hist(trans, density = True)\n",
    "plt.show()"
   ]
  },
  {
   "cell_type": "code",
   "execution_count": 121,
   "id": "855f46e7-6efe-4ce4-b34a-0f92711f1b8a",
   "metadata": {},
   "outputs": [],
   "source": [
    "# way to get the details of the transformation\n",
    "# trans_ = (points**pt.lambdas_ - 1.0) / pt.lambdas_\n",
    "# (trans_ - np.mean(trans_)) / np.std(trans_)"
   ]
  },
  {
   "cell_type": "code",
   "execution_count": 122,
   "id": "a5991e34-5ff3-416c-9db7-3d6ab47d62e4",
   "metadata": {},
   "outputs": [],
   "source": [
    "import torch"
   ]
  },
  {
   "cell_type": "code",
   "execution_count": 455,
   "id": "ee4f1c90-865f-4609-926a-c45bde55bf19",
   "metadata": {},
   "outputs": [],
   "source": [
    "module = GaussianProcess(cfg, torch.from_numpy(cosmologies.values), torch.from_numpy(trans.reshape(-1)), prewhiten=True)\n",
    "parameters = torch.randn(7)"
   ]
  },
  {
   "cell_type": "code",
   "execution_count": 456,
   "id": "97a848f9-1b7e-43d5-ab08-027e23157ada",
   "metadata": {},
   "outputs": [],
   "source": [
    "opt_params = module.optimisation(parameters, niter=1000, lrate=0.01, nrestart = 5)"
   ]
  },
  {
   "cell_type": "code",
   "execution_count": 457,
   "id": "a6545e09-ee56-4310-871e-2db563a130c6",
   "metadata": {},
   "outputs": [
    {
     "data": {
      "image/png": "[encoded data removed]",
      "text/plain": [
       "<Figure size 640x480 with 1 Axes>"
      ]
     },
     "metadata": {},
     "output_type": "display_data"
    }
   ],
   "source": [
    "plt.plot(opt_params[0]['loss'])\n",
    "plt.plot(opt_params[1]['loss'])\n",
    "plt.plot(opt_params[2]['loss'])\n",
    "plt.plot(opt_params[3]['loss'])\n",
    "plt.plot(opt_params[4]['loss'])\n",
    "plt.show()"
   ]
  },
  {
   "cell_type": "code",
   "execution_count": 458,
   "id": "3a4556f9-1624-45b6-bc17-48b4ab926d5b",
   "metadata": {},
   "outputs": [],
   "source": [
    "record_test_like = np.zeros_like(camb_logpost)\n",
    "\n",
    "for j in range(camb_logpost.shape[0]):\n",
    "    testpoint = torch.from_numpy(camb_samples_thinned[j])\n",
    "    # pred = np.exp(module.prediction(testpoint)) + 1.0001 * min(record_logl)\n",
    "    pred = np.exp(pt.inverse_transform(module.prediction(testpoint)))\n",
    "    record_test_like[j] = -pred.item()"
   ]
  },
  {
   "cell_type": "code",
   "execution_count": 459,
   "id": "9e1379a2-6eb4-4b00-b2ef-9d4a10d8b1e9",
   "metadata": {},
   "outputs": [
    {
     "data": {
      "image/png": "[encoded data removed]",
      "text/plain": [
       "<Figure size 600x600 with 1 Axes>"
      ]
     },
     "metadata": {},
     "output_type": "display_data"
    }
   ],
   "source": [
    "plt.figure(figsize = (6,6))\n",
    "plt.scatter(camb_logpost, record_test_like + 1.6964435176222046)\n",
    "plt.xlabel('camb')\n",
    "plt.show()"
   ]
  },
  {
   "cell_type": "code",
   "execution_count": 460,
   "id": "37e48b85-d3c3-4c72-aadb-3e4891bec156",
   "metadata": {},
   "outputs": [],
   "source": [
    "frac_acc = (record_test_like + 1.6964435176222046 - camb_logpost) / camb_logpost"
   ]
  },
  {
   "cell_type": "code",
   "execution_count": 461,
   "id": "223bd192-483c-44ec-b4ab-9cac811d0d25",
   "metadata": {},
   "outputs": [
    {
     "data": {
      "image/png": "[encoded data removed]",
      "text/plain": [
       "<Figure size 640x480 with 1 Axes>"
      ]
     },
     "metadata": {},
     "output_type": "display_data"
    }
   ],
   "source": [
    "plt.hist(frac_acc * 100, density = True)\n",
    "plt.show()"
   ]
  },
  {
   "cell_type": "markdown",
   "id": "57338dd8-0771-4045-87a9-62e78613373e",
   "metadata": {},
   "source": [
    "## Sampling"
   ]
  },
  {
   "cell_type": "code",
   "execution_count": 276,
   "id": "20dbfeff-13c5-41a9-abe5-5655afd2251d",
   "metadata": {},
   "outputs": [],
   "source": [
    "def calc_loglike(testpoint):\n",
    "    testpoint = torch.from_numpy(testpoint)\n",
    "    pred = module.prediction(testpoint) + 1.0001 * min(record_logl)\n",
    "    # pred = pt.inverse_transform(module.prediction(testpoint)) + 1.0001 * min(record_logl)\n",
    "    return pred.item()"
   ]
  },
  {
   "cell_type": "code",
   "execution_count": 279,
   "id": "96f05155-d28e-4860-b813-76acd96977b9",
   "metadata": {},
   "outputs": [],
   "source": [
    "def calc_logpost(testpoint, priors):\n",
    "    logprior = emcee_logprior_uniform(testpoint, priors)\n",
    "    if np.isfinite(logprior):\n",
    "        loglike = calc_loglike(testpoint)\n",
    "        return loglike + logprior\n",
    "    return -1E32"
   ]
  },
  {
   "cell_type": "code",
   "execution_count": 281,
   "id": "757ab4d1-64ee-4b92-8db2-21a3440d4b8e",
   "metadata": {},
   "outputs": [
    {
     "data": {
      "text/plain": [
       "-292.2481693316579"
      ]
     },
     "execution_count": 281,
     "metadata": {},
     "output_type": "execute_result"
    }
   ],
   "source": [
    "calc_logpost(camb_samples_thinned[0], uniform_priors)"
   ]
  },
  {
   "cell_type": "code",
   "execution_count": 283,
   "id": "c5cd3f64-1d40-4ad3-82e4-38abe6c0d228",
   "metadata": {},
   "outputs": [],
   "source": [
    "# import scipy.stats as ss \n",
    "\n",
    "# def generate_priors_uniform(cfg, samples_min, samples_max) -> dict:\n",
    "#     priors = {}\n",
    "#     for i, name in enumerate(cfg.cosmo.names):\n",
    "#         loc = samples_min[i]\n",
    "#         scale = samples_max[i] - samples_min[i]\n",
    "#         priors[name] = ss.uniform(loc, scale)\n",
    "#     return priors\n",
    "    \n",
    "# samples_min = np.amin(camb_samples.flatchain, axis = 0)\n",
    "# samples_max = np.amax(camb_samples.flatchain, axis = 0)\n",
    "\n",
    "# custom_priors = generate_priors_uniform(cfg, samples_min, samples_max)"
   ]
  },
  {
   "cell_type": "code",
   "execution_count": null,
   "id": "42934a8d-df66-482b-b19a-ec3c672fe6b7",
   "metadata": {},
   "outputs": [],
   "source": []
  },
  {
   "cell_type": "code",
   "execution_count": null,
   "id": "63d16c0b-e37d-4775-8068-733602edeed5",
   "metadata": {},
   "outputs": [],
   "source": []
  },
  {
   "cell_type": "code",
   "execution_count": null,
   "id": "e0a6e339-9b02-479b-9334-7bfb2c0f417a",
   "metadata": {},
   "outputs": [],
   "source": []
  },
  {
   "cell_type": "code",
   "execution_count": null,
   "id": "793133e2-4afc-4329-be79-6c5dae07fc67",
   "metadata": {},
   "outputs": [],
   "source": []
  },
  {
   "cell_type": "code",
   "execution_count": 284,
   "id": "e194329e-1896-4bed-9aab-cf63ff495550",
   "metadata": {},
   "outputs": [],
   "source": [
    "import emcee"
   ]
  },
  {
   "cell_type": "code",
   "execution_count": 290,
   "id": "9cb24e4c-27bd-4b04-b981-6a55e9c7a160",
   "metadata": {},
   "outputs": [],
   "source": [
    "pos = cfg.sampling.mean + 1e-4 * np.random.normal(size=(2 * cfg.ndim, cfg.ndim))\n",
    "nwalkers = pos.shape[0]\n",
    "sampler = emcee.EnsembleSampler(\n",
    "                nwalkers,\n",
    "                cfg.ndim,\n",
    "                calc_logpost,\n",
    "                args= (uniform_priors,))"
   ]
  },
  {
   "cell_type": "code",
   "execution_count": 291,
   "id": "64cab561-cd7d-479a-91a0-0b0bf6229de2",
   "metadata": {},
   "outputs": [],
   "source": [
    "%%capture\n",
    "sampler.run_mcmc(pos, cfg.sampling.nsamples, progress=True)"
   ]
  },
  {
   "cell_type": "code",
   "execution_count": 292,
   "id": "37cf9b31-303b-4743-bff0-d2a3b242e24c",
   "metadata": {},
   "outputs": [],
   "source": [
    "samples_emu = sampler.get_chain(flat=True, thin = thin_factor, discard = discard_factor)"
   ]
  },
  {
   "cell_type": "code",
   "execution_count": 295,
   "id": "4ae8d9bd-4515-4b94-b34b-da7ea2b53641",
   "metadata": {},
   "outputs": [],
   "source": [
    "index = 0"
   ]
  },
  {
   "cell_type": "code",
   "execution_count": 296,
   "id": "5f1da304-9f62-4d9b-86ca-a965d475bd42",
   "metadata": {},
   "outputs": [
    {
     "data": {
      "image/png": "[encoded data removed]",
      "text/plain": [
       "<Figure size 640x480 with 1 Axes>"
      ]
     },
     "metadata": {},
     "output_type": "display_data"
    }
   ],
   "source": [
    "plt.hist(camb_samples_thinned[:,index], density = True)\n",
    "plt.hist(samples_emu[:,index], density = True, histtype='step')\n",
    "plt.show()"
   ]
  },
  {
   "cell_type": "markdown",
   "id": "5c08b83e-addb-4739-9396-109ad5581f9e",
   "metadata": {},
   "source": [
    "Idea - use LHS within a box"
   ]
  },
  {
   "cell_type": "code",
   "execution_count": null,
   "id": "86726d6c-c72e-4752-8081-70e0e642138e",
   "metadata": {},
   "outputs": [],
   "source": []
  }
 ],
 "metadata": {
  "kernelspec": {
   "display_name": "Python 3 (ipykernel)",
   "language": "python",
   "name": "python3"
  },
  "language_info": {
   "codemirror_mode": {
    "name": "ipython",
    "version": 3
   },
   "file_extension": ".py",
   "mimetype": "text/x-python",
   "name": "python",
   "nbconvert_exporter": "python",
   "pygments_lexer": "ipython3",
   "version": "3.9.18"
  }
 },
 "nbformat": 4,
 "nbformat_minor": 5
}
